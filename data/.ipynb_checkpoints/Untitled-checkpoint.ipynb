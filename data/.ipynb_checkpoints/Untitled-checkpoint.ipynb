{
 "cells": [
  {
   "cell_type": "code",
   "execution_count": 1,
   "metadata": {},
   "outputs": [],
   "source": [
    "import pickle as pkl"
   ]
  },
  {
   "cell_type": "code",
   "execution_count": 18,
   "metadata": {},
   "outputs": [],
   "source": [
    "task = \"wiki_medium\"\n",
    "ppl_path = f\"ppl2/{task}.perplexity.p\"\n",
    "gen_path = f\"generations/{task}.generations.final.p\"\n",
    "out_path = f\"{task}.p\"\n",
    "\n",
    "with open(ppl_path, \"rb\") as f, open(gen_path, \"rb\") as g:\n",
    "    ppl = pkl.load(f)\n",
    "    gen = pkl.load(g)"
   ]
  },
  {
   "cell_type": "code",
   "execution_count": 19,
   "metadata": {},
   "outputs": [],
   "source": [
    "tmp = {}\n",
    "for decoder, data in gen.items():\n",
    "    if decoder == \"bayes_raw\":\n",
    "        continue\n",
    "    tmp[decoder] = {}\n",
    "    ppl_data = ppl[decoder]\n",
    "    tmp[decoder][\"text\"] = data[\"text\"]\n",
    "    tmp[decoder][\"ppl\"] = ppl_data[\"ppl\"]\n",
    "    tmp[decoder][\"cumulative_log_prob\"] = ppl_data[\"cum_prob\"]"
   ]
  },
  {
   "cell_type": "code",
   "execution_count": 20,
   "metadata": {},
   "outputs": [
    {
     "name": "stdout",
     "output_type": "stream",
     "text": [
      "bayes\n",
      "top_k\n",
      "ancestral\n",
      "nucleus\n"
     ]
    }
   ],
   "source": [
    "for decoder, data in tmp.items():\n",
    "    l = len(data[\"text\"])\n",
    "    print(decoder)\n",
    "    for key, value in data.items():\n",
    "        if key == \"text\":\n",
    "            continue\n",
    "        assert len(value) == l"
   ]
  },
  {
   "cell_type": "code",
   "execution_count": 17,
   "metadata": {},
   "outputs": [],
   "source": [
    "pkl.dump(tmp, open(out_path, \"wb\"))"
   ]
  },
  {
   "cell_type": "code",
   "execution_count": 15,
   "metadata": {},
   "outputs": [],
   "source": [
    "out_path = f\"{task}.p\""
   ]
  }
 ],
 "metadata": {
  "kernelspec": {
   "display_name": "master_thesis",
   "language": "python",
   "name": "master_thesis"
  },
  "language_info": {
   "codemirror_mode": {
    "name": "ipython",
    "version": 3
   },
   "file_extension": ".py",
   "mimetype": "text/x-python",
   "name": "python",
   "nbconvert_exporter": "python",
   "pygments_lexer": "ipython3",
   "version": "3.8.8"
  }
 },
 "nbformat": 4,
 "nbformat_minor": 2
}
